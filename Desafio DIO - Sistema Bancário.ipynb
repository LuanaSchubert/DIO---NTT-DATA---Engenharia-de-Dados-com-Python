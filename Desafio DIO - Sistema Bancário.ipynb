{
  "nbformat": 4,
  "nbformat_minor": 0,
  "metadata": {
    "colab": {
      "provenance": [],
      "authorship_tag": "ABX9TyMfykIryO8UCI1uWN4gK9Yr",
      "include_colab_link": true
    },
    "kernelspec": {
      "name": "python3",
      "display_name": "Python 3"
    },
    "language_info": {
      "name": "python"
    }
  },
  "cells": [
    {
      "cell_type": "markdown",
      "metadata": {
        "id": "view-in-github",
        "colab_type": "text"
      },
      "source": [
        "<a href=\"https://colab.research.google.com/github/LuanaSchubert/Projeto-Python-Guanabara/blob/main/Desafio%20DIO%20-%20Sistema%20Banc%C3%A1rio.ipynb\" target=\"_parent\"><img src=\"https://colab.research.google.com/assets/colab-badge.svg\" alt=\"Open In Colab\"/></a>"
      ]
    },
    {
      "cell_type": "code",
      "execution_count": null,
      "metadata": {
        "id": "HJUC76EJJFte"
      },
      "outputs": [],
      "source": [
        "#Desafio DIO - Criando um Sistema Bancário com Python\n",
        "\n",
        "saque = 0\n",
        "dinheiro = 0\n",
        "ope = 0\n",
        "deposito = 0\n",
        "valor = []\n",
        "\n",
        "while ope != 4:\n",
        "    print('Bom dia! Qual operação deseja realizar?')\n",
        "    print('1. Depositar')\n",
        "    print('2. Sacar')\n",
        "    print('3. Ver extrato')\n",
        "    print('4. Sair')\n",
        "    ope = int(input(': '))\n",
        "\n",
        "    if ope == 1:\n",
        "        ValorDeposito = int(input('Digite o valor que deseja depositar: '))\n",
        "        if ValorDeposito > 0:\n",
        "            dinheiro += ValorDeposito\n",
        "            deposito += 1\n",
        "            valor.append(ValorDeposito)\n",
        "            print(f'Depósito no valor de R${ValorDeposito} realizado com sucesso!')\n",
        "        else:\n",
        "            print('ERRO: Valor inválido')\n",
        "\n",
        "    elif ope == 2:\n",
        "        if dinheiro > 0:\n",
        "            if saque < 3:\n",
        "                print('São permitidos 3 saques por dia no valor de até R$500.')\n",
        "                valsa = int(input('Digite o valor que deseja sacar: '))\n",
        "                if valsa <= dinheiro and valsa <= 500:\n",
        "                    dinheiro -= valsa\n",
        "                    saque += 1\n",
        "                    print(f'Saque de R${valsa} realizado com sucesso!')\n",
        "                else:\n",
        "                    print('Valor inválido! O saque deve ser menor ou igual a R$500 e ao saldo disponível.')\n",
        "            else:\n",
        "                print('LIMITE DE SAQUES EXCEDIDO')\n",
        "        else:\n",
        "            print('Sem saldo suficiente para sacar')\n",
        "\n",
        "    elif ope == 3:\n",
        "        print(f'Sua conta tem R${dinheiro:.2f}')\n",
        "        print(f'Você fez {deposito} depósitos: {valor}')\n",
        "        print(f'Você realizou {saque} saques hoje')\n",
        "\n",
        "    elif ope != 4:\n",
        "        print('Opção inválida! Tente novamente.')\n",
        "\n",
        "print('Obrigado por utilizar nosso sistema bancário!')"
      ]
    }
  ]
}